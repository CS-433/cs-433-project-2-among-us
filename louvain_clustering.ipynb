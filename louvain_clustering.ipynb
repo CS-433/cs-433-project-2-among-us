{
 "cells": [
  {
   "cell_type": "markdown",
   "metadata": {},
   "source": [
    "# Datapreprocessing\n",
    "* From CSV to Feather\n",
    "* Drop NA values"
   ]
  },
  {
   "cell_type": "code",
   "execution_count": 1,
   "metadata": {},
   "outputs": [
    {
     "name": "stderr",
     "output_type": "stream",
     "text": [
      "C:\\Users\\pahu95377\\Anaconda3\\lib\\site-packages\\pandas\\core\\frame.py:3997: SettingWithCopyWarning: \n",
      "A value is trying to be set on a copy of a slice from a DataFrame\n",
      "\n",
      "See the caveats in the documentation: https://pandas.pydata.org/pandas-docs/stable/user_guide/indexing.html#returning-a-view-versus-a-copy\n",
      "  errors=errors,\n"
     ]
    }
   ],
   "source": [
    "#usual lines\n",
    "import numpy as np\n",
    "import pandas as pd\n",
    "\n",
    "# import path\n",
    "input_path = 'Data/us-equities_logreturns.csv'\n",
    "output_path = 'Data/us-equities_logreturns.feather'\n",
    "\n",
    "#load data\n",
    "df = pd.read_csv(input_path)\n",
    "\n",
    "#delete columns with NaN values\n",
    "df_clean = df.dropna(axis=1, how=\"any\", thresh=None, subset=None, inplace=False)\n",
    "df_clean.drop(columns=\"Unnamed: 0\",inplace=True)\n",
    "\n",
    "# keep track of how many columns we have lost\n",
    "columns_losses = df_clean.shape[1] - df.shape[1]\n",
    "\n",
    "#write to feather \n",
    "df_clean.to_feather(output_path)"
   ]
  },
  {
   "cell_type": "markdown",
   "metadata": {},
   "source": [
    "# Louvain clustering for correlation matrices\n"
   ]
  },
  {
   "cell_type": "code",
   "execution_count": 2,
   "metadata": {},
   "outputs": [],
   "source": [
    "from numpy import linalg as LA\n",
    "import numpy as np\n",
    "import pandas as pd\n",
    "import math\n",
    "import networkx as nx\n",
    "import community\n",
    "\n",
    "\n",
    "def compute_C_minus_C0(lambdas,v,lambda_plus):\n",
    "    N=len(lambdas)\n",
    "    C_clean=np.zeros((N, N))\n",
    "  \n",
    "    # _s stands for _structure below. Note that range(N-1) means that we do not include the maximum eigenvalue\n",
    "    for i in range(N-1):\n",
    "        if lambdas[i]>lambda_plus:\n",
    "            C_clean=C_clean + lambdas[i]*(np.outer(v[:,i],v[:,i]))\n",
    "    np.fill_diagonal(C_clean,1)\n",
    "    return C_clean    \n",
    "    \n",
    "    \n",
    "def LouvainCorrelationClustering(R):   # R is a matrix of return\n",
    "    N=R.shape[1]\n",
    "    T=R.shape[0]\n",
    "\n",
    "    q=N*1./T\n",
    "    lambda_plus=(1.+np.sqrt(q))**2\n",
    "\n",
    "    C=R.corr()\n",
    "    lambdas, v = LA.eigh(C)\n",
    "    \n",
    "    C_s=compute_C_minus_C0(lambdas,v,lambda_plus)\n",
    "    C_s=np.abs(C_s)\n",
    "    \n",
    "    mygraph= nx.from_numpy_matrix(C_s)\n",
    "    partition = community.community_louvain.best_partition(mygraph)\n",
    "\n",
    "    DF=pd.DataFrame.from_dict(partition,orient=\"index\")\n",
    "    return(DF)"
   ]
  },
  {
   "cell_type": "code",
   "execution_count": 3,
   "metadata": {},
   "outputs": [
    {
     "name": "stdout",
     "output_type": "stream",
     "text": [
      "Assets:\n",
      "      0\n",
      "AEP  0\n",
      "FL   1\n",
      "MRO  2\n",
      "DTE  0\n",
      "IP   3\n",
      "..  ..\n",
      "SWM  8\n",
      "ITT  3\n",
      "MSM  0\n",
      "HIG  2\n",
      "BCO  4\n",
      "\n",
      "[481 rows x 1 columns]\n",
      "\n",
      "Assets values are: [0 1 2 3 4 5 6 7 8]\n"
     ]
    }
   ],
   "source": [
    "# Define clustering Assets\n",
    "R=pd.read_feather(\"Data/us-equities_logreturns.feather\")     \n",
    "myclusteringAssets=LouvainCorrelationClustering(R)\n",
    "myclusteringAssets.index=R.columns\n",
    "print(\"Assets:\\n\",myclusteringAssets)\n",
    "print(\"\\nAssets values are:\",np.unique(myclusteringAssets.values))"
   ]
  },
  {
   "cell_type": "markdown",
   "metadata": {},
   "source": [
    "# Define a local period and compare the assets \n",
    "* R.shape  = (4549, 481) \n",
    "* each row = one day\n",
    "* after a week t0 = 0 and t1= 7, we have decend numbers.\n",
    "* do we have to keep tracks like 0"
   ]
  },
  {
   "cell_type": "code",
   "execution_count": 6,
   "metadata": {},
   "outputs": [
    {
     "name": "stdout",
     "output_type": "stream",
     "text": [
      "List of states:\n",
      "      state\n",
      "AEP      0\n",
      "FL       1\n",
      "MRO      2\n",
      "DTE      0\n",
      "IP       3\n",
      "..     ...\n",
      "SWM      1\n",
      "ITT      3\n",
      "MSM      5\n",
      "HIG      1\n",
      "BCO      1\n",
      "\n",
      "[481 rows x 1 columns]\n",
      "\n",
      "Unique state values are: [0 1 2 3 4 5 6 7]\n",
      "\n",
      "The string of states from t0: 0 and t1: 1051 is:\n",
      " 0120304351632205123002633331333205353311632332233651251223421132006137003011237151301032234253022333033303323173747644017003727111272261452424416416152640321463312032202300336313642311717515105660512715027313726127775300637042122616134424374113134413623344424611770324043464115174760656554271313310131111142123247501204512124573424235204421733734561422344447260024545111730574741074730556433664651115457276313215556574615555312353666354053556361516656131636266375722650210632713511\n"
     ]
    }
   ],
   "source": [
    "# set the time period\n",
    "t0=1000 #starting period\n",
    "t1=1051 #50 days on memory\n",
    "Rlocal=R[t0:t1].copy()\n",
    "myclusteringDays=LouvainCorrelationClustering(Rlocal)\n",
    "myclusteringDays.index=Rlocal.columns\n",
    "myclusteringDays.columns=[\"state\"]\n",
    "string_states = ''.join(map(str, myclusteringDays['state']))\n",
    "print(\"List of states:\\n\",myclusteringDays)\n",
    "print(\"\\nUnique state values are:\",np.unique(myclusteringDays.values))\n",
    "print(\"\\nThe string of states from t0:\",t0,\"and t1:\",t1,\"is:\\n\",string_states)"
   ]
  },
  {
   "cell_type": "code",
   "execution_count": null,
   "metadata": {},
   "outputs": [],
   "source": []
  }
 ],
 "metadata": {
  "kernelspec": {
   "display_name": "Python 3",
   "language": "python",
   "name": "python3"
  },
  "language_info": {
   "codemirror_mode": {
    "name": "ipython",
    "version": 3
   },
   "file_extension": ".py",
   "mimetype": "text/x-python",
   "name": "python",
   "nbconvert_exporter": "python",
   "pygments_lexer": "ipython3",
   "version": "3.7.7"
  }
 },
 "nbformat": 4,
 "nbformat_minor": 2
}
